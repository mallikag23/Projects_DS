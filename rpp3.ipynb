{
 "cells": [
  {
   "cell_type": "code",
   "execution_count": 93,
   "metadata": {},
   "outputs": [
    {
     "name": "stdout",
     "output_type": "stream",
     "text": [
      "Requirement already satisfied: selenium in e:\\anaconda\\lib\\site-packages (4.0.0b4)\n",
      "Requirement already satisfied: trio-websocket~=0.9 in e:\\anaconda\\lib\\site-packages (from selenium) (0.9.2)\n",
      "Requirement already satisfied: urllib3[secure]~=1.26 in e:\\anaconda\\lib\\site-packages (from selenium) (1.26.7)\n",
      "Requirement already satisfied: trio~=0.17 in e:\\anaconda\\lib\\site-packages (from selenium) (0.19.0)\n",
      "Requirement already satisfied: wsproto>=0.14 in e:\\anaconda\\lib\\site-packages (from trio-websocket~=0.9->selenium) (1.0.0)\n",
      "Requirement already satisfied: async-generator>=1.10 in e:\\anaconda\\lib\\site-packages (from trio-websocket~=0.9->selenium) (1.10)\n",
      "Requirement already satisfied: idna>=2.0.0; extra == \"secure\" in e:\\anaconda\\lib\\site-packages (from urllib3[secure]~=1.26->selenium) (2.10)\n",
      "Requirement already satisfied: cryptography>=1.3.4; extra == \"secure\" in e:\\anaconda\\lib\\site-packages (from urllib3[secure]~=1.26->selenium) (3.1.1)\n",
      "Requirement already satisfied: certifi; extra == \"secure\" in e:\\anaconda\\lib\\site-packages (from urllib3[secure]~=1.26->selenium) (2020.6.20)\n",
      "Requirement already satisfied: pyOpenSSL>=0.14; extra == \"secure\" in e:\\anaconda\\lib\\site-packages (from urllib3[secure]~=1.26->selenium) (19.1.0)\n",
      "Requirement already satisfied: outcome in e:\\anaconda\\lib\\site-packages (from trio~=0.17->selenium) (1.1.0)\n",
      "Requirement already satisfied: sniffio in e:\\anaconda\\lib\\site-packages (from trio~=0.17->selenium) (1.2.0)\n",
      "Requirement already satisfied: attrs>=19.2.0 in e:\\anaconda\\lib\\site-packages (from trio~=0.17->selenium) (20.3.0)\n",
      "Requirement already satisfied: cffi>=1.14; os_name == \"nt\" and implementation_name != \"pypy\" in e:\\anaconda\\lib\\site-packages (from trio~=0.17->selenium) (1.14.3)\n",
      "Requirement already satisfied: sortedcontainers in e:\\anaconda\\lib\\site-packages (from trio~=0.17->selenium) (2.2.2)\n",
      "Requirement already satisfied: h11<1,>=0.9.0 in e:\\anaconda\\lib\\site-packages (from wsproto>=0.14->trio-websocket~=0.9->selenium) (0.12.0)\n",
      "Requirement already satisfied: six>=1.4.1 in e:\\anaconda\\lib\\site-packages (from cryptography>=1.3.4; extra == \"secure\"->urllib3[secure]~=1.26->selenium) (1.15.0)\n",
      "Requirement already satisfied: pycparser in e:\\anaconda\\lib\\site-packages (from cffi>=1.14; os_name == \"nt\" and implementation_name != \"pypy\"->trio~=0.17->selenium) (2.20)\n"
     ]
    }
   ],
   "source": [
    "!pip install selenium"
   ]
  },
  {
   "cell_type": "code",
   "execution_count": null,
   "metadata": {},
   "outputs": [],
   "source": []
  },
  {
   "cell_type": "code",
   "execution_count": null,
   "metadata": {},
   "outputs": [],
   "source": []
  },
  {
   "cell_type": "code",
   "execution_count": 8,
   "metadata": {},
   "outputs": [],
   "source": [
    "import pandas as pd\n",
    "import selenium\n",
    "import time\n",
    "from selenium import webdriver\n",
    "from selenium.common.exceptions import NoSuchElementException\n",
    "from selenium.webdriver.support.select import Select\n",
    "\n",
    "import undetected_chromedriver as uc\n",
    "from selenium.webdriver.common.by import By"
   ]
  },
  {
   "cell_type": "code",
   "execution_count": 147,
   "metadata": {},
   "outputs": [],
   "source": [
    "driver=webdriver.Chrome(r'F:\\chromedriver_win32\\chromedriver.exe')\n",
    "driver.get('https://www.amazon.in/')\n",
    "time.sleep(2)\n",
    "search=['Mobile','Laptops','Watches','Headphones','Professional Cameras','Printers','Monitors','Home theater','Router']\n",
    "rating=[]\n",
    "review=[]\n",
    "urls=[]\n",
    "\n",
    "for index in range(len(search)):  \n",
    "    time.sleep(2)\n",
    "    try:\n",
    "        driver.find_element(By.XPATH,\"//input[@id='twotabsearchtextbox']\").clear()\n",
    "        driver.find_element(By.XPATH,\"//input[@id='twotabsearchtextbox']\").send_keys(search[index])\n",
    "        time.sleep(1)\n",
    "        search_button=driver.find_element(By.XPATH,\"//input[@id='nav-search-submit-button']\")\n",
    "        search_button.click()\n",
    "        time.sleep(1)\n",
    "        urls.append(driver.current_url)\n",
    "    except NoSuchElementException as e:\n",
    "                 print(\"Exception Raised: \",e)\n",
    "print(len(urls))"
   ]
  },
  {
   "cell_type": "code",
   "execution_count": 151,
   "metadata": {},
   "outputs": [],
   "source": [
    "purls=[]\n",
    "for j in urls[:9]:\n",
    "    driver.get(j)\n",
    "    time.sleep(2)\n",
    "    for i in driver.find_elements(By.XPATH,\"//a[@class='a-link-normal a-text-normal']\"):purls.append(i.get_attribute(\"href\"))\n",
    "        \n",
    "print(len(purls))"
   ]
  },
  {
   "cell_type": "code",
   "execution_count": 149,
   "metadata": {},
   "outputs": [],
   "source": [
    "allreviews=[]\n",
    "res=[]\n",
    "for k in purls[:3]:\n",
    "    driver.get(k)\n",
    "    time.sleep(2)\n",
    "    driver.find_element_by_partial_link_text(\"See all reviews\").click()\n",
    "    cord=driver.current_url\n",
    "    A,B = cord.rsplit('/product-reviews')\n",
    "    AA=A.replace('https://www.amazon.in/','')\n",
    "    res.append(AA)\n",
    "    allreviews.append(cord)\n",
    "    \n",
    "print(res)\n",
    "print(len(allreviews))"
   ]
  },
  {
   "cell_type": "code",
   "execution_count": 148,
   "metadata": {},
   "outputs": [],
   "source": [
    "name = []\n",
    "title=[]\n",
    "rating= []\n",
    "body=[]\n",
    "name1=[]\n",
    "rt2=[]\n",
    "rating1=[]\n",
    "for x in range(1,5):\n",
    "    for y in res:\n",
    "        driver.get(f'https://www.amazon.in/{y}/product-reviews/B08XJG8MQM/ref=cm_cr_arp_d_paging_btm_next_{x}?ie=UTF8&reviewerType=all_reviews&pageNumber={x}')\n",
    "        time.sleep(2)\n",
    "        try:\n",
    "            for t in driver.find_elements(By.XPATH,\"//span[@class='a-profile-name']\"):name.append(t.text)\n",
    "        except NoSuchElementException:name.append('NaN')\n",
    "        try:    \n",
    "            for t in driver.find_elements(By.XPATH,\"//a[@data-hook='review-title']\"):title.append(t.text)\n",
    "        except NoSuchElementException:title.append('NaN')\n",
    "        try:    \n",
    "            for t in driver.find_elements(By.XPATH,\"//i[@data-hook='review-rating']\"):rating.append(t.text)\n",
    "        except NoSuchElementException:rating.append('NaN')\n",
    "        try:    \n",
    "            for t in driver.find_elements(By.XPATH,\"//span[@data-hook='review-body']\"):body.append(t.text)\n",
    "        except NoSuchElementException:body.append('NaN')              "
   ]
  },
  {
   "cell_type": "code",
   "execution_count": 146,
   "metadata": {},
   "outputs": [],
   "source": [
    "prod=pd.DataFrame({})\n",
    "prod['Name']=name\n",
    "prod['Title']=title\n",
    "prod['Rating']=rating\n",
    "prod['Review']=body\n",
    "prod = prod.rename(index = lambda x: x+1)"
   ]
  },
  {
   "cell_type": "code",
   "execution_count": null,
   "metadata": {},
   "outputs": [],
   "source": [
    "prod.to_excel('reviews.xlsx', index=False)"
   ]
  },
  {
   "cell_type": "code",
   "execution_count": null,
   "metadata": {},
   "outputs": [],
   "source": []
  },
  {
   "cell_type": "code",
   "execution_count": null,
   "metadata": {},
   "outputs": [],
   "source": []
  },
  {
   "cell_type": "code",
   "execution_count": null,
   "metadata": {},
   "outputs": [],
   "source": []
  },
  {
   "cell_type": "code",
   "execution_count": null,
   "metadata": {},
   "outputs": [],
   "source": []
  },
  {
   "cell_type": "code",
   "execution_count": null,
   "metadata": {},
   "outputs": [],
   "source": []
  },
  {
   "cell_type": "code",
   "execution_count": null,
   "metadata": {},
   "outputs": [],
   "source": []
  },
  {
   "cell_type": "code",
   "execution_count": null,
   "metadata": {},
   "outputs": [],
   "source": []
  },
  {
   "cell_type": "code",
   "execution_count": null,
   "metadata": {},
   "outputs": [],
   "source": []
  },
  {
   "cell_type": "code",
   "execution_count": null,
   "metadata": {},
   "outputs": [],
   "source": []
  },
  {
   "cell_type": "code",
   "execution_count": null,
   "metadata": {},
   "outputs": [],
   "source": []
  }
 ],
 "metadata": {
  "kernelspec": {
   "display_name": "Python 3",
   "language": "python",
   "name": "python3"
  },
  "language_info": {
   "codemirror_mode": {
    "name": "ipython",
    "version": 3
   },
   "file_extension": ".py",
   "mimetype": "text/x-python",
   "name": "python",
   "nbconvert_exporter": "python",
   "pygments_lexer": "ipython3",
   "version": "3.8.5"
  }
 },
 "nbformat": 4,
 "nbformat_minor": 4
}
