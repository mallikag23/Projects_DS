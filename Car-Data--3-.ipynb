{
 "cells": [
  {
   "cell_type": "code",
   "execution_count": 1,
   "metadata": {},
   "outputs": [
    {
     "name": "stdout",
     "output_type": "stream",
     "text": [
      "Requirement already satisfied: undetected_chromedriver in e:\\anaconda\\lib\\site-packages (3.0.3)\n",
      "Requirement already satisfied: requests in e:\\anaconda\\lib\\site-packages (from undetected_chromedriver) (2.24.0)\n",
      "Requirement already satisfied: websockets in e:\\anaconda\\lib\\site-packages (from undetected_chromedriver) (10.0)\n",
      "Requirement already satisfied: selenium==4.0.0b4 in e:\\anaconda\\lib\\site-packages (from undetected_chromedriver) (4.0.0b4)\n",
      "Requirement already satisfied: certifi>=2017.4.17 in e:\\anaconda\\lib\\site-packages (from requests->undetected_chromedriver) (2020.6.20)\n",
      "Requirement already satisfied: chardet<4,>=3.0.2 in e:\\anaconda\\lib\\site-packages (from requests->undetected_chromedriver) (3.0.4)\n",
      "Requirement already satisfied: idna<3,>=2.5 in e:\\anaconda\\lib\\site-packages (from requests->undetected_chromedriver) (2.10)\n",
      "Requirement already satisfied: urllib3!=1.25.0,!=1.25.1,<1.26,>=1.21.1 in e:\\anaconda\\lib\\site-packages (from requests->undetected_chromedriver) (1.25.11)\n",
      "Requirement already satisfied: trio-websocket~=0.9 in e:\\anaconda\\lib\\site-packages (from selenium==4.0.0b4->undetected_chromedriver) (0.9.2)\n",
      "Requirement already satisfied: trio~=0.17 in e:\\anaconda\\lib\\site-packages (from selenium==4.0.0b4->undetected_chromedriver) (0.19.0)\n",
      "Requirement already satisfied: async-generator>=1.10 in e:\\anaconda\\lib\\site-packages (from trio-websocket~=0.9->selenium==4.0.0b4->undetected_chromedriver) (1.10)\n",
      "Requirement already satisfied: wsproto>=0.14 in e:\\anaconda\\lib\\site-packages (from trio-websocket~=0.9->selenium==4.0.0b4->undetected_chromedriver) (1.0.0)\n",
      "Requirement already satisfied: attrs>=19.2.0 in e:\\anaconda\\lib\\site-packages (from trio~=0.17->selenium==4.0.0b4->undetected_chromedriver) (20.3.0)\n",
      "Requirement already satisfied: sortedcontainers in e:\\anaconda\\lib\\site-packages (from trio~=0.17->selenium==4.0.0b4->undetected_chromedriver) (2.2.2)\n",
      "Requirement already satisfied: sniffio in e:\\anaconda\\lib\\site-packages (from trio~=0.17->selenium==4.0.0b4->undetected_chromedriver) (1.2.0)\n",
      "Requirement already satisfied: cffi>=1.14; os_name == \"nt\" and implementation_name != \"pypy\" in e:\\anaconda\\lib\\site-packages (from trio~=0.17->selenium==4.0.0b4->undetected_chromedriver) (1.14.3)\n",
      "Requirement already satisfied: outcome in e:\\anaconda\\lib\\site-packages (from trio~=0.17->selenium==4.0.0b4->undetected_chromedriver) (1.1.0)\n",
      "Requirement already satisfied: h11<1,>=0.9.0 in e:\\anaconda\\lib\\site-packages (from wsproto>=0.14->trio-websocket~=0.9->selenium==4.0.0b4->undetected_chromedriver) (0.12.0)\n",
      "Requirement already satisfied: pycparser in e:\\anaconda\\lib\\site-packages (from cffi>=1.14; os_name == \"nt\" and implementation_name != \"pypy\"->trio~=0.17->selenium==4.0.0b4->undetected_chromedriver) (2.20)\n"
     ]
    }
   ],
   "source": [
    "!pip install undetected_chromedriver"
   ]
  },
  {
   "cell_type": "code",
   "execution_count": 129,
   "metadata": {},
   "outputs": [],
   "source": [
    "import time\n",
    "import pandas as pd\n",
    "import undetected_chromedriver as uc\n",
    "from selenium import webdriver \n",
    "from selenium.webdriver.common.by import By\n",
    "from selenium.common.exceptions import NoSuchElementException\n",
    "\n",
    "# path for chromedriver\n",
    "options = webdriver.ChromeOptions() \n",
    "options.add_argument(\"start-maximized\")\n",
    "\n",
    "# path for chromedriver\n",
    "options = webdriver.ChromeOptions() \n",
    "options.add_argument(\"start-maximized\")\n",
    "driver = uc.Chrome(executable_path=r'F:/chromedriver_win32/chromedriver.exe', options=options)"
   ]
  },
  {
   "cell_type": "code",
   "execution_count": 110,
   "metadata": {},
   "outputs": [],
   "source": [
    "#*******************************************************************************************************#"
   ]
  },
  {
   "cell_type": "code",
   "execution_count": 120,
   "metadata": {},
   "outputs": [
    {
     "name": "stdout",
     "output_type": "stream",
     "text": [
      "1185\n"
     ]
    }
   ],
   "source": [
    "# Data lists\n",
    "purls=[]\n",
    "price=[]\n",
    "spcs=[]\n",
    "cord=[]\n",
    "\n",
    "# Get links for cars\n",
    "urls=[\"https://www.cardekho.com/used-cars+in+mumbai\",\"https://www.cardekho.com/used-cars+in+bangalore\",\n",
    "      \"https://www.cardekho.com/used-cars+in+ahmedabad\",\"https://www.cardekho.com/used-cars+in+chennai\",\n",
    "     \"https://www.cardekho.com/used-cars+in+gurgaon\",\"https://www.cardekho.com/used-cars+in+hyderabad\",\n",
    "     \"https://www.cardekho.com/used-cars+in+jaipur\",\"https://www.cardekho.com/used-cars+in+kolkata\",\n",
    "     \"https://www.cardekho.com/used-cars+in+new-delhi\",\"https://www.cardekho.com/used-cars+in+noida\",\n",
    "     \"https://www.cardekho.com/used-cars+in+pune\",\"https://www.cardekho.com/used-cars+in+delhi-ncr\"]\n",
    "\n",
    "for i in urls:\n",
    "    driver.get(i)\n",
    "    time.sleep(2)\n",
    "    try:\n",
    "        for j in driver.find_elements(By.XPATH,\"//div[@class='gsc_col-xs-7 carsName']//a\")[:1000]: \n",
    "            for _ in range(5):\n",
    "                purls.append(j.get_attribute(\"href\"))\n",
    "                driver.execute_script(\"window.scrollBy(0,1000)\")\n",
    "                time.sleep(1)\n",
    "    except NoSuchElementException as e:\n",
    "            print(\"Exception Raised: \",e)\n",
    "\n",
    "#print(purls)\n",
    "print(len(purls))"
   ]
  },
  {
   "cell_type": "code",
   "execution_count": null,
   "metadata": {},
   "outputs": [],
   "source": []
  },
  {
   "cell_type": "code",
   "execution_count": 121,
   "metadata": {},
   "outputs": [],
   "source": [
    "for url in purls:\n",
    "    driver.get(url)\n",
    "    try:\n",
    "        # current url\n",
    "        cord.append(driver.current_url)\n",
    "        \n",
    "        # specs\n",
    "        try:\n",
    "            specs_block = driver.find_element(By.XPATH,\"//ul[@class='gsc_row detailsList']\")\n",
    "            specs_data = specs_block.text.split(\"\\n\")[::-2][::-1]\n",
    "            spcs.append(specs_data)\n",
    "        except NoSuchElementException:\n",
    "                spcs.append('NaN')\n",
    "   \n",
    "        # price\n",
    "        try:\n",
    "            price.append(driver.find_element(By.XPATH,\"//div[@class='priceSection']\").text.replace('₹',' '))\n",
    "        except NoSuchElementException:\n",
    "                price.append('NaN')\n",
    "        time.sleep(1.5)\n",
    "    except NoSuchElementException as e:\n",
    "        print(\"Exception Raised: \",e ,url)\n",
    "   "
   ]
  },
  {
   "cell_type": "code",
   "execution_count": 122,
   "metadata": {},
   "outputs": [
    {
     "name": "stdout",
     "output_type": "stream",
     "text": [
      "1185\n",
      "specifications ['  5,62,000', '  5,62,000', '  5,62,000', '  5,62,000', '  5,62,000', '  7,96,500', '  7,96,500', '  7,96,500', '  7,96,500', '  7,96,500', '  3,60,000', '  3,60,000', '  3,60,000', '  3,60,000', '  3,60,000', '  5,53,500', '  5,53,500', '  5,53,500', '  5,53,500', '  5,53,500', '  7,85,000', '  7,85,000', '  7,85,000', '  7,85,000', '  7,85,000', '  4,85,000', '  4,85,000', '  4,85,000', '  4,85,000', '  4,85,000', '  7,37,500', '  7,37,500', '  7,37,500', '  7,37,500', '  7,37,500', '  7,44,500', '  7,44,500', '  7,44,500', '  7,44,500', '  7,44,500', '  8,70,000', '  8,70,000', '  8,70,000', '  8,70,000', '  8,70,000', '  4,70,000', '  4,70,000', '  4,70,000', '  4,70,000', '  4,70,000', '  7,94,500', '  7,94,500', '  7,94,500', '  7,94,500', '  7,94,500', '  4,35,000', '  4,35,000', '  4,35,000', '  4,35,000', '  4,35,000', '  3,28,000', '  3,28,000', '  3,28,000', '  3,28,000', '  3,28,000', '  4,81,000', '  4,81,000', '  4,81,000', '  4,81,000', '  4,81,000', 'NaN', 'NaN', 'NaN', 'NaN', 'NaN', 'NaN', 'NaN', 'NaN', 'NaN', 'NaN', 'NaN', 'NaN', 'NaN', 'NaN', 'NaN', 'NaN', 'NaN', 'NaN', 'NaN', 'NaN', 'NaN', 'NaN', 'NaN', 'NaN', 'NaN', 'NaN', 'NaN', 'NaN', 'NaN', 'NaN', '  4,80,500', '  4,80,500', '  4,80,500', '  4,80,500', '  4,80,500', '  5,46,000', '  5,46,000', '  5,46,000', '  5,46,000', '  5,46,000', '  4,98,000', '  4,98,000', '  4,98,000', '  4,98,000', '  4,98,000', '  4,96,500', '  4,96,500', '  4,96,500', '  4,96,500', '  4,96,500', '  5,24,000', '  5,24,000', '  5,24,000', '  5,24,000', '  5,24,000', '  5,50,000', '  5,50,000', '  5,50,000', '  5,50,000', '  5,50,000', '  5,36,500', '  5,36,500', '  5,36,500', '  5,36,500', '  5,36,500', '  3,29,000', '  3,29,000', '  3,29,000', '  3,29,000', '  3,29,000', '  4,47,500', '  4,47,500', '  4,47,500', '  4,47,500', '  4,47,500', '  7,70,000', '  7,70,000', '  7,70,000', '  7,70,000', '  7,70,000', '  9,59,500', '  9,59,500', '  9,59,500', '  9,59,500', '  9,59,500', '  4,82,000', '  4,82,000', '  4,82,000', '  4,82,000', '  4,82,000', '  5,10,000', '  5,10,000', '  5,10,000', '  5,10,000', '  5,10,000', '  4,81,500', '  4,81,500', '  4,81,500', '  4,81,500', '  4,81,500', 'NaN', 'NaN', 'NaN', 'NaN', 'NaN', 'NaN', 'NaN', 'NaN', 'NaN', 'NaN', 'NaN', 'NaN', 'NaN', 'NaN', 'NaN', 'NaN', 'NaN', 'NaN', 'NaN', 'NaN', 'NaN', 'NaN', 'NaN', 'NaN', 'NaN', 'NaN', 'NaN', 'NaN', 'NaN', 'NaN', '  3,60,000', '  3,60,000', '  3,60,000', '  3,60,000', '  3,60,000', '  6,65,000', '  6,65,000', '  6,65,000', '  6,65,000', '  6,65,000', '  3,99,500', '  3,99,500', '  3,99,500', '  3,99,500', '  3,99,500', '  1,77,500', '  1,77,500', '  1,77,500', '  1,77,500', '  1,77,500', '  4,72,000', '  4,72,000', '  4,72,000', '  4,72,000', '  4,72,000', '  4,69,500', '  4,69,500', '  4,69,500', '  4,69,500', '  4,69,500', '  4,22,000', '  4,22,000', '  4,22,000', '  4,22,000', '  4,22,000', '  2,79,000', '  2,79,000', '  2,79,000', '  2,79,000', '  2,79,000', '  3,97,000', '  3,97,000', '  3,97,000', '  3,97,000', '  3,97,000', '  4,57,000', '  4,57,000', '  4,57,000', '  4,57,000', '  4,57,000', '  4,91,500', '  4,91,500', '  4,91,500', '  4,91,500', '  4,91,500', '  3,99,000', '  3,99,000', '  3,99,000', '  3,99,000', '  3,99,000', '  3,40,500', '  3,40,500', '  3,40,500', '  3,40,500', '  3,40,500', '  4,70,500', '  4,70,500', '  4,70,500', '  4,70,500', '  4,70,500', 'NaN', 'NaN', 'NaN', 'NaN', 'NaN', 'NaN', 'NaN', 'NaN', 'NaN', 'NaN', 'NaN', 'NaN', 'NaN', 'NaN', 'NaN', 'NaN', 'NaN', 'NaN', 'NaN', 'NaN', 'NaN', 'NaN', 'NaN', 'NaN', 'NaN', 'NaN', 'NaN', 'NaN', 'NaN', 'NaN', 'NaN', 'NaN', 'NaN', 'NaN', 'NaN', 'NaN', 'NaN', 'NaN', 'NaN', 'NaN', 'NaN', 'NaN', 'NaN', 'NaN', 'NaN', 'NaN', 'NaN', 'NaN', 'NaN', 'NaN', 'NaN', 'NaN', 'NaN', 'NaN', 'NaN', 'NaN', 'NaN', 'NaN', 'NaN', 'NaN', 'NaN', 'NaN', 'NaN', 'NaN', 'NaN', 'NaN', 'NaN', 'NaN', 'NaN', 'NaN', 'NaN', 'NaN', 'NaN', 'NaN', 'NaN', 'NaN', 'NaN', 'NaN', 'NaN', 'NaN', 'NaN', 'NaN', 'NaN', 'NaN', 'NaN', 'NaN', 'NaN', 'NaN', 'NaN', 'NaN', 'NaN', 'NaN', 'NaN', 'NaN', 'NaN', 'NaN', 'NaN', 'NaN', 'NaN', 'NaN', 'NaN', 'NaN', 'NaN', 'NaN', 'NaN', 'NaN', 'NaN', 'NaN', 'NaN', 'NaN', 'NaN', 'NaN', 'NaN', 'NaN', 'NaN', 'NaN', 'NaN', 'NaN', 'NaN', 'NaN', 'NaN', 'NaN', 'NaN', 'NaN', 'NaN', 'NaN', 'NaN', 'NaN', 'NaN', 'NaN', '  3,21,000', '  3,21,000', '  3,21,000', '  3,21,000', '  3,21,000', '  2,75,000', '  2,75,000', '  2,75,000', '  2,75,000', '  2,75,000', '  3,50,500', '  3,50,500', '  3,50,500', '  3,50,500', '  3,50,500', '  5,25,500', '  5,25,500', '  5,25,500', '  5,25,500', '  5,25,500', '  4,30,000', '  4,30,000', '  4,30,000', '  4,30,000', '  4,30,000', '  5,35,500', '  5,35,500', '  5,35,500', '  5,35,500', '  5,35,500', '  7,63,500', '  7,63,500', '  7,63,500', '  7,63,500', '  7,63,500', '  6,92,500', '  6,92,500', '  6,92,500', '  6,92,500', '  6,92,500', '  7,48,194', '  7,48,194', '  7,48,194', '  7,48,194', '  7,48,194', '  6,90,000', '  6,90,000', '  6,90,000', '  6,90,000', '  6,90,000', '  5,94,000', '  5,94,000', '  5,94,000', '  5,94,000', '  5,94,000', '  2,83,000', '  2,83,000', '  2,83,000', '  2,83,000', '  2,83,000', '  6,84,500', '  6,84,500', '  6,84,500', '  6,84,500', '  6,84,500', '  4,00,000', '  4,00,000', '  4,00,000', '  4,00,000', '  4,00,000', '  6,14,000', '  6,14,000', '  6,14,000', '  6,14,000', '  6,14,000', '  5,62,000', '  5,62,000', '  5,62,000', '  5,62,000', '  5,62,000', '  4,72,500', '  4,72,500', '  4,72,500', '  4,72,500', '  4,72,500', '  4,82,500', '  4,82,500', '  4,82,500', '  4,82,500', '  4,82,500', '  3,77,000', '  3,77,000', '  3,77,000', '  3,77,000', '  3,77,000', '  4,09,000', '  4,09,000', '  4,09,000', '  4,09,000', '  4,09,000', '  6,76,000', '  6,76,000', '  6,76,000', '  6,76,000', '  6,76,000', '  6,98,500', '  6,98,500', '  6,98,500', '  6,98,500', '  6,98,500', '  5,50,000', '  5,50,000', '  5,50,000', '  5,50,000', '  5,50,000', '  5,45,000', '  5,45,000', '  5,45,000', '  5,45,000', '  5,45,000', '  5,73,500', '  5,73,500', '  5,73,500', '  5,73,500', '  5,73,500', '  6,60,000', '  6,60,000', '  6,60,000', '  6,60,000', '  6,60,000', '  6,10,000', '  6,10,000', '  6,10,000', '  6,10,000', '  6,10,000', '  4,30,000', '  4,30,000', '  4,30,000', '  4,30,000', '  4,30,000', '  6,33,500', '  6,33,500', '  6,33,500', '  6,33,500', '  6,33,500', '  6,10,000', '  6,10,000', '  6,10,000', '  6,10,000', '  6,10,000', '  7,03,000', '  7,03,000', '  7,03,000', '  7,03,000', '  7,03,000', '  5,40,000', '  5,40,000', '  5,40,000', '  5,40,000', '  5,40,000', '  5,20,000', '  5,20,000', '  5,20,000', '  5,20,000', '  5,20,000', '  6,10,000', '  6,10,000', '  6,10,000', '  6,10,000', '  6,10,000', 'NaN', 'NaN', 'NaN', 'NaN', 'NaN', 'NaN', 'NaN', 'NaN', 'NaN', 'NaN', 'NaN', 'NaN', 'NaN', 'NaN', 'NaN', 'NaN', 'NaN', 'NaN', 'NaN', 'NaN', 'NaN', 'NaN', 'NaN', 'NaN', 'NaN', '  5,01,617', '  5,01,617', '  5,01,617', '  5,01,617', '  5,01,617', '  2,56,127', '  2,56,127', '  2,56,127', '  2,56,127', '  2,56,127', '  3,11,640', 'NaN', '  3,11,640', '  3,11,640', '  3,11,640', '  3,02,327', '  3,02,327', '  3,02,327', '  3,02,327', '  3,02,327', '  2,93,065', '  2,93,065', '  2,93,065', '  2,93,065', '  2,93,065', '  13,84,281', '  13,84,281', '  13,84,281', '  13,84,281', '  13,84,281', '  5,24,653', '  5,24,653', '  5,24,653', '  5,24,653', '  5,24,653', '  6,64,123', '  6,64,123', '  6,64,123', '  6,64,123', '  6,64,123', '  4,90,000', '  4,90,000', '  4,90,000', '  4,90,000', '  4,90,000', '  4,65,000', '  4,65,000', '  4,65,000', '  4,65,000', '  4,65,000', '  38,00,000', '  38,00,000', '  38,00,000', '  38,00,000', '  38,00,000', '  16,50,000', '  16,50,000', '  16,50,000', '  16,50,000', '  16,50,000', '  5,25,000', '  5,25,000', '  5,25,000', '  5,25,000', '  5,25,000', '  6,70,000', '  6,70,000', '  6,70,000', '  6,70,000', '  6,70,000', '  6,75,000', '  6,75,000', '  6,75,000', '  6,75,000', '  6,75,000', '  3,30,000', '  3,30,000', '  3,30,000', '  3,30,000', '  3,30,000', '  3,60,000', '  3,60,000', '  3,60,000', '  3,60,000', '  3,60,000', '  3,90,000', '  3,90,000', '  3,90,000', '  3,90,000', '  3,90,000', '  8,90,000', '  8,90,000', '  8,90,000', '  8,90,000', '  8,90,000', '  3,70,000', '  3,70,000', '  3,70,000', '  3,70,000', '  3,70,000', 'NaN', 'NaN', 'NaN', 'NaN', 'NaN', 'NaN', 'NaN', 'NaN', 'NaN', 'NaN', 'NaN', 'NaN', 'NaN', 'NaN', 'NaN', 'NaN', 'NaN', 'NaN', 'NaN', 'NaN', 'NaN', 'NaN', 'NaN', 'NaN', 'NaN', 'NaN', 'NaN', 'NaN', 'NaN', 'NaN', 'NaN', 'NaN', 'NaN', 'NaN', 'NaN', 'NaN', 'NaN', 'NaN', 'NaN', 'NaN', 'NaN', 'NaN', 'NaN', 'NaN', 'NaN', 'NaN', 'NaN', 'NaN', 'NaN', 'NaN', 'NaN', 'NaN', 'NaN', 'NaN', 'NaN', 'NaN', 'NaN', 'NaN', 'NaN', 'NaN', 'NaN', 'NaN', 'NaN', 'NaN', 'NaN', 'NaN', 'NaN', 'NaN', 'NaN', 'NaN', 'NaN', 'NaN', 'NaN', 'NaN', 'NaN', 'NaN', 'NaN', 'NaN', 'NaN', 'NaN', 'NaN', 'NaN', 'NaN', 'NaN', 'NaN', 'NaN', 'NaN', 'NaN', 'NaN', 'NaN', 'NaN', 'NaN', 'NaN', 'NaN', 'NaN', 'NaN', 'NaN', 'NaN', 'NaN', 'NaN', '  3,21,000', '  3,21,000', '  3,21,000', '  3,21,000', '  3,21,000', '  2,75,000', '  2,75,000', '  2,75,000', '  2,75,000', '  2,75,000', '  9,08,000', '  9,08,000', '  9,08,000', '  9,08,000', '  9,08,000', '  3,90,000', '  3,90,000', '  3,90,000', '  3,90,000', '  3,90,000', '  3,50,500', '  3,50,500', '  3,50,500', '  3,50,500', '  3,50,500', '  4,24,000', '  4,24,000', '  4,24,000', '  4,24,000', '  4,24,000', '  5,25,500', '  5,25,500', '  5,25,500', '  5,25,500', '  5,25,500', '  4,30,000', '  4,30,000', '  4,30,000', '  4,30,000', '  4,30,000', '  6,84,500', '  6,84,500', '  6,84,500', '  6,84,500', '  6,84,500', '  5,35,500', '  5,35,500', '  5,35,500', '  5,35,500', '  5,35,500', '  7,63,500', '  7,63,500', '  7,63,500', '  7,63,500', '  7,63,500', '  6,92,500', '  6,92,500', '  6,92,500', '  6,92,500', '  6,92,500', '  6,90,000', '  6,90,000', '  6,90,000', '  6,90,000', '  6,90,000', '  5,94,000', '  5,94,000', '  5,94,000', '  5,94,000', '  5,94,000', 'NaN', 'NaN', 'NaN', 'NaN', 'NaN', 'NaN', 'NaN', 'NaN', 'NaN', 'NaN', 'NaN', 'NaN', 'NaN', 'NaN', 'NaN', 'NaN', 'NaN', 'NaN', 'NaN', 'NaN', 'NaN', 'NaN', 'NaN', 'NaN', 'NaN', '  3,21,000', '  3,21,000', '  3,21,000', '  3,21,000', '  3,21,000', '  2,75,000', '  2,75,000', '  2,75,000', '  2,75,000', '  2,75,000', '  3,50,500', '  3,50,500', '  3,50,500', '  3,50,500', '  3,50,500', '  5,25,500', '  5,25,500', '  5,25,500', '  5,25,500', '  5,25,500', '  4,30,000', '  4,30,000', '  4,30,000', '  4,30,000', '  4,30,000', '  6,84,500', '  6,84,500', '  6,84,500', '  6,84,500', '  6,84,500', '  5,35,500', '  5,35,500', '  5,35,500', '  5,35,500', '  5,35,500', '  7,63,500', '  7,63,500', '  7,63,500', '  7,63,500', '  7,63,500', '  6,92,500', '  6,92,500', '  6,92,500', '  6,92,500', '  6,92,500', '  6,90,000', '  6,90,000', '  6,90,000', '  6,90,000', '  6,90,000', '  5,94,000', '  5,94,000', '  5,94,000', '  5,94,000', '  5,94,000', '  6,29,000', '  6,29,000', '  6,29,000', '  6,29,000', '  6,29,000', '  2,83,000', '  2,83,000', '  2,83,000', '  2,83,000', '  2,83,000', '  4,00,000', '  4,00,000', '  4,00,000', '  4,00,000', '  4,00,000', '  6,14,000', '  6,14,000', '  6,14,000', '  6,14,000', '  6,14,000', '  5,62,000', '  5,62,000', '  5,62,000', '  5,62,000', '  5,62,000', '  4,72,500', '  4,72,500', '  4,72,500', '  4,72,500', '  4,72,500', '  4,82,500', '  4,82,500', '  4,82,500', '  4,82,500', '  4,82,500', 'NaN', 'NaN', 'NaN', 'NaN', '  3,77,000', '  4,09,000', '  4,09,000', '  4,09,000', '  4,09,000', '  4,09,000', '  4,68,500', '  4,68,500', '  4,68,500', '  4,68,500', '  4,68,500', '  5,56,500', '  5,56,500', '  5,56,500', '  5,56,500', '  5,56,500', '  2,36,500', '  2,36,500', '  2,36,500', '  2,36,500', '  2,36,500', '  5,04,500', '  5,04,500', '  5,04,500', '  5,04,500', '  5,04,500', '  5,59,500', '  5,59,500', '  5,59,500', '  5,59,500', '  5,59,500', '  4,72,500', '  4,72,500', '  4,72,500', '  4,72,500', '  4,72,500', '  4,86,000', '  4,86,000', '  4,86,000', '  4,86,000', '  4,86,000', '  3,85,500', '  3,85,500', '  3,85,500', '  3,85,500', '  3,85,500', '  5,72,000', '  5,72,000', '  5,72,000', '  5,72,000', '  5,72,000', '  3,75,000', '  3,75,000', '  3,75,000', '  3,75,000', '  3,75,000', '  5,49,000', '  5,49,000', '  5,49,000', '  5,49,000', '  5,49,000', '  3,70,000', '  3,70,000', '  3,70,000', '  3,70,000', '  3,70,000', '  3,83,500', '  3,83,500', '  3,83,500', '  3,83,500', '  3,83,500', '  4,41,000', '  4,41,000', '  4,41,000', '  4,41,000', '  4,41,000', '  7,00,000', '  7,00,000', '  7,00,000', '  7,00,000', '  7,00,000', 'NaN', 'NaN', 'NaN', 'NaN', 'NaN', 'NaN', 'NaN', 'NaN', 'NaN', 'NaN', 'NaN', 'NaN', 'NaN', 'NaN', 'NaN', '  7,65,500', '  7,65,500', '  7,65,500', '  7,65,500', '  7,65,500', '  3,75,500', '  3,75,500', '  3,75,500', '  3,75,500', '  3,75,500', '  9,08,000', '  9,08,000', '  9,08,000', '  9,08,000', '  9,08,000', '  3,90,000', '  3,90,000', '  3,90,000', '  3,90,000', '  3,90,000', '  2,75,000', '  2,75,000', '  2,75,000', '  2,75,000', '  2,75,000', '  3,50,500', '  3,50,500', '  3,50,500', '  3,50,500', '  3,50,500', '  4,24,000', '  4,24,000', '  4,24,000', '  4,24,000', '  4,24,000', '  5,25,500', '  5,25,500', '  5,25,500', '  5,25,500', '  5,25,500', '  4,30,000', '  4,30,000', '  4,30,000', '  4,30,000', '  4,30,000', '  6,84,500', '  6,84,500', '  6,84,500', '  6,84,500', '  6,84,500', '  5,35,500', '  5,35,500', '  5,35,500', '  5,35,500', '  5,35,500', '  7,63,500', '  7,63,500', '  7,63,500', '  7,63,500', '  7,63,500', '  6,92,500', '  6,92,500', '  6,92,500', '  6,92,500', '  6,92,500', '  6,90,000', '  6,90,000', '  6,90,000', '  6,90,000', '  6,90,000', '  5,94,000', '  5,94,000', '  5,94,000', '  5,94,000', '  5,94,000', '  6,29,000', '  6,29,000', '  6,29,000', '  6,29,000', '  6,29,000', 'NaN', 'NaN', 'NaN', 'NaN', 'NaN', 'NaN', 'NaN', 'NaN', 'NaN', 'NaN', 'NaN', 'NaN', 'NaN', 'NaN', 'NaN', 'NaN', 'NaN', 'NaN', 'NaN', 'NaN', 'NaN', 'NaN', 'NaN', 'NaN', 'NaN']\n",
      "1185\n"
     ]
    }
   ],
   "source": [
    "# Print statements for your data\n",
    "#print(\"specifications\",spcs)\n",
    "print(len(spcs))\n",
    "print(\"specifications\",price)\n",
    "print(len(price))"
   ]
  },
  {
   "cell_type": "code",
   "execution_count": null,
   "metadata": {},
   "outputs": [],
   "source": []
  },
  {
   "cell_type": "code",
   "execution_count": 123,
   "metadata": {},
   "outputs": [],
   "source": [
    "#*********************************************************************************************#"
   ]
  },
  {
   "cell_type": "code",
   "execution_count": null,
   "metadata": {},
   "outputs": [],
   "source": []
  },
  {
   "cell_type": "code",
   "execution_count": 130,
   "metadata": {},
   "outputs": [
    {
     "name": "stdout",
     "output_type": "stream",
     "text": [
      "500\n"
     ]
    }
   ],
   "source": [
    "apurls=[]\n",
    "aurls=[\" https://www.cars24.com/buy-used-car?sort=P&storeCityId=134&pinId=201301\",\n",
    "      \"https://www.cars24.com/buy-used-car?sort=P&storeCityId=5&pinId=122001\",\n",
    "      \"https://www.cars24.com/buy-used-car?sort=P&storeCityId=2378&pinId=400001\",\n",
    "      \"https://www.cars24.com/buy-used-car?sort=P&storeCityId=2&pinId=110001\",\n",
    "     \"https://www.cars24.com/buy-used-car?sort=P&storeCityId=2423&pinId=411001\",\n",
    "     \"https://www.cars24.com/buy-used-car?sort=P&storeCityId=4709&pinId=560001\",\n",
    "     \"https://www.cars24.com/buy-used-car?sort=P&storeCityId=3686&pinId=500001\",\n",
    "     \"https://www.cars24.com/buy-used-car?sort=P&storeCityId=5732&pinId=600001\",\n",
    "     \"https://www.cars24.com/buy-used-car?sort=P&storeCityId=777&pinId=700001\",\n",
    "     \"https://www.cars24.com/buy-used-car?sort=P&storeCityId=1692&pinId=380001\"]\n",
    "\n",
    "for i in aurls:\n",
    "    driver.get(i)\n",
    "    time.sleep(1)\n",
    "    try:\n",
    "        for j in driver.find_elements(By.XPATH,\"//div[@class='col-4']//a\")[:10]: \n",
    "            for _ in range(5):\n",
    "                apurls.append(j.get_attribute(\"href\"))\n",
    "                driver.execute_script(\"window.scrollBy(0,1000)\")\n",
    "                time.sleep(1)\n",
    "    except NoSuchElementException as e:\n",
    "            print(\"Exception Raised: \",e)\n",
    "\n",
    "#print(apurls)\n",
    "print(len(apurls))"
   ]
  },
  {
   "cell_type": "code",
   "execution_count": null,
   "metadata": {},
   "outputs": [],
   "source": [
    "from selenium.common.exceptions import NoSuchElementException\n",
    "price1=[]\n",
    "spcs1=[]\n",
    "spcs2=[]\n",
    "cord1=[]\n",
    "for aurl in apurls:\n",
    "    driver.get(aurl)\n",
    "    try:\n",
    "        cord1.append(driver.current_url)\n",
    "        # specs\n",
    "        try:\n",
    "            specs_block1 = driver.find_element(By.XPATH,\"//div[@class='DB7s9']\")\n",
    "            specs_data1 = specs_block1.text.split(\"\\n\")#[::-2][::-1]\n",
    "            spcs1.append(specs_data1)\n",
    "        except NoSuchElementException:\n",
    "                spcs1.append('NaN')\n",
    "        \n",
    "        # price\n",
    "        try:\n",
    "            price1.append(driver.find_element(By.XPATH,\"//strong[@class='_2yYvS']\").text)\n",
    "        except NoSuchElementException:\n",
    "                price1.append('NaN')\n",
    "        time.sleep(1.5)\n",
    "    except NoSuchElementException as e:\n",
    "        print(\"Exception Raised: \",e ,url)"
   ]
  },
  {
   "cell_type": "code",
   "execution_count": null,
   "metadata": {},
   "outputs": [],
   "source": [
    "print(len(spcs1))\n",
    "#print(spcs1)\n",
    "print(len(price1))\n",
    "#print(price1)"
   ]
  },
  {
   "cell_type": "code",
   "execution_count": null,
   "metadata": {},
   "outputs": [],
   "source": [
    "driver.close()"
   ]
  },
  {
   "cell_type": "code",
   "execution_count": null,
   "metadata": {},
   "outputs": [],
   "source": []
  },
  {
   "cell_type": "code",
   "execution_count": null,
   "metadata": {},
   "outputs": [],
   "source": [
    "df=pd.DataFrame({})\n",
    "\n",
    "df['URL']=cord\n",
    "df['url']=df[\"URL\"].str.split('//', expand=True)[1]\n",
    "df['site']=df[\"url\"].str.split('/', expand=True)[0]\n",
    "df[\"url1\"]=df[\"url\"].str.split('/used-', expand=True)[1]\n",
    "df[\"Car Name\"]=df[\"url1\"].str.split('-cars-', expand=True)[0]\n",
    "df[\"url2\"]=df[\"url1\"].str.split('-cars-', expand=True)[1]\n",
    "df[\"Location\"]=df[\"url2\"].str.split('_', expand=True)[0]\n",
    "df.drop(['URL','url','url1','url2'],inplace=True,axis=1)\n",
    "\n",
    "df['sps']=spcs\n",
    "df[\"Make Year\"]= df[\"sps\"].str.slice(0, 1)\n",
    "df[\"Reg year\"]= df[\"sps\"].str.slice(1, 2)\n",
    "df[\"Feul\"]= df[\"sps\"].str.slice(2, 3)\n",
    "df[\"Km Driven\"]= df[\"sps\"].str.slice(3, 4)\n",
    "df[\"Engine Displacement\"]= df[\"sps\"].str.slice(4, 5)\n",
    "df[\"No of Owners\"]= df[\"sps\"].str.slice(5, 6)\n",
    "df[\"RTO\"]= df[\"sps\"].str.slice(-3, 7)\n",
    "df[\"Transmission\"]= df[\"sps\"].str.slice(-2, 8)\n",
    "df[\"Insurance Type\"]= df[\"sps\"].str.slice(-1, 9)\n",
    "df.drop('sps',inplace=True,axis=1)\n",
    "\n",
    "df['Price']=price\n",
    "df = df.rename(index = lambda x: x+1)\n",
    "df"
   ]
  },
  {
   "cell_type": "code",
   "execution_count": null,
   "metadata": {},
   "outputs": [],
   "source": [
    "adf=pd.DataFrame({})\n",
    "adf['URL']=cord1\n",
    "adf['url']=adf[\"URL\"].str.split('//', expand=True)[1]\n",
    "adf['site']=adf[\"url\"].str.split('/', expand=True)[0]\n",
    "adf[\"url1\"]=adf[\"url\"].str.split('-used-', expand=True)[1]\n",
    "adf[\"Car Name\"]=adf[\"url1\"].str.split('-cars-', expand=True)[0]\n",
    "\n",
    "adf[\"url2\"]=adf[\"url1\"].str.split('-cars-', expand=True)[1]\n",
    "adf[\"Location\"]=adf[\"url2\"].str.split('-1', expand=True)[0]\n",
    "adf.drop(['URL','url','url1','url2'],inplace=True,axis=1)\n",
    "\n",
    "adf['sps']=spcs1\n",
    "adf[\"Make Year\"]= adf[\"sps\"].str.slice(-1, 17)\n",
    "adf[\"Reg year\"]= adf[\"sps\"].str.slice(-1, 17)\n",
    "adf[\"Feul\"]= adf[\"sps\"].str.slice(7, 8)\n",
    "adf[\"Km Driven\"]= adf[\"sps\"].str.slice(5, 6)\n",
    "adf[\"Engine Displacement\"]= \"Nan\"\n",
    "adf[\"No of Owners\"]= adf[\"sps\"].str.slice(3, 4)\n",
    "adf[\"RTO\"]= adf[\"sps\"].str.slice(-6, 12)\n",
    "adf[\"Transmission\"]= adf[\"sps\"].str.slice(-8, 10)\n",
    "adf[\"Insurance Type\"]= adf[\"sps\"].str.slice(-3, 15)\n",
    "adf.drop('sps',inplace=True,axis=1)\n",
    "\n",
    "adf['Price']=price1\n",
    "adf = adf.rename(index = lambda x: x+1)\n",
    "adf"
   ]
  },
  {
   "cell_type": "code",
   "execution_count": null,
   "metadata": {},
   "outputs": [],
   "source": [
    "frames = [df, adf]\n",
    "  \n",
    "result = pd.concat(frames)\n",
    "display(result)"
   ]
  },
  {
   "cell_type": "code",
   "execution_count": null,
   "metadata": {},
   "outputs": [],
   "source": []
  },
  {
   "cell_type": "code",
   "execution_count": null,
   "metadata": {},
   "outputs": [],
   "source": [
    "result.to_excel (r'E:\\Data Trained_ Training\\used_cars2.xlsx', index = False, header=True)"
   ]
  },
  {
   "cell_type": "code",
   "execution_count": null,
   "metadata": {},
   "outputs": [],
   "source": []
  },
  {
   "cell_type": "code",
   "execution_count": null,
   "metadata": {},
   "outputs": [],
   "source": []
  },
  {
   "cell_type": "code",
   "execution_count": null,
   "metadata": {},
   "outputs": [],
   "source": []
  }
 ],
 "metadata": {
  "interpreter": {
   "hash": "fb7e67830cbf53b54d65373339b2ce8996414211a6c7792ba97c7b18e3f3067a"
  },
  "kernelspec": {
   "display_name": "Python 3",
   "language": "python",
   "name": "python3"
  },
  "language_info": {
   "codemirror_mode": {
    "name": "ipython",
    "version": 3
   },
   "file_extension": ".py",
   "mimetype": "text/x-python",
   "name": "python",
   "nbconvert_exporter": "python",
   "pygments_lexer": "ipython3",
   "version": "3.8.5"
  }
 },
 "nbformat": 4,
 "nbformat_minor": 4
}
